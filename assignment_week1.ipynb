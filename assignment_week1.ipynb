{
 "cells": [
  {
   "cell_type": "code",
   "execution_count": null,
   "id": "cacd5904-63e8-40ab-8d6f-59d435c5551f",
   "metadata": {},
   "outputs": [],
   "source": [
    "#Q1. Create one variable containing following type of data:\n",
    "#(i) string\n",
    "#(ii) list\n",
    "#(iii) float\n",
    "#(iv) tuple"
   ]
  },
  {
   "cell_type": "code",
   "execution_count": null,
   "id": "4f30fab7-abc6-4186-82b5-6fba825130cd",
   "metadata": {},
   "outputs": [],
   "source": [
    "#solution 1:"
   ]
  },
  {
   "cell_type": "code",
   "execution_count": 19,
   "id": "d774fb30-2ae4-4214-9544-706a7792efff",
   "metadata": {},
   "outputs": [
    {
     "data": {
      "text/plain": [
       "tuple"
      ]
     },
     "execution_count": 19,
     "metadata": {},
     "output_type": "execute_result"
    }
   ],
   "source": [
    "m = (\"mono\",[2,1],5.7,(1,2,3))\n",
    "m\n",
    "type(m)"
   ]
  },
  {
   "cell_type": "code",
   "execution_count": null,
   "id": "4b6c2f83-e1f0-4619-be84-86c96da45140",
   "metadata": {},
   "outputs": [],
   "source": [
    "#Q2. Given are some following variables containing data:\n",
    "#(i) var1 = ‘ ‘\n",
    "#(ii) var2 = ‘[ DS , ML , Python]’\n",
    "#(iii) var3 = [ ‘DS’ , ’ML’ , ‘Python’ ]\n",
    "#(iv) var4 = 1.\n",
    "#What will be the data type of the above given variable."
   ]
  },
  {
   "cell_type": "code",
   "execution_count": null,
   "id": "1b3d85b2-17dc-48f3-b1e7-05b2aab666d4",
   "metadata": {},
   "outputs": [],
   "source": [
    "#solution 2:"
   ]
  },
  {
   "cell_type": "code",
   "execution_count": null,
   "id": "ac132d4e-db84-4272-80c1-ae81257a1019",
   "metadata": {},
   "outputs": [],
   "source": [
    "var2 = ‘[ DS , ML , Python]’  #invalid"
   ]
  },
  {
   "cell_type": "code",
   "execution_count": null,
   "id": "e51cd367-611a-4517-94d3-b55b2c4a8651",
   "metadata": {},
   "outputs": [],
   "source": [
    "var3 = [ ‘DS’ , ’ML’ , ‘Python’ ] #invalid"
   ]
  },
  {
   "cell_type": "code",
   "execution_count": 20,
   "id": "8d133438-7cf4-4013-bc2b-c70e24662c63",
   "metadata": {},
   "outputs": [
    {
     "data": {
      "text/plain": [
       "int"
      ]
     },
     "execution_count": 20,
     "metadata": {},
     "output_type": "execute_result"
    }
   ],
   "source": [
    "var4 = 1\n",
    "type(var4)"
   ]
  },
  {
   "cell_type": "code",
   "execution_count": null,
   "id": "f8f5bbf9-e884-4e2e-9546-559bfa8abb23",
   "metadata": {},
   "outputs": [],
   "source": [
    "#Q3. Explain the use of the following operators using an example:\n",
    "#(i) /\n",
    "#(ii) %\n",
    "#(iii) //\n",
    "#(iv) **"
   ]
  },
  {
   "cell_type": "code",
   "execution_count": null,
   "id": "2c41604c-d93f-4205-95af-1bf3bb43bedf",
   "metadata": {},
   "outputs": [],
   "source": [
    "#solution 3:"
   ]
  },
  {
   "cell_type": "code",
   "execution_count": 21,
   "id": "af33359f-018b-459d-97a4-a5f3a6eb0b49",
   "metadata": {},
   "outputs": [
    {
     "data": {
      "text/plain": [
       "float"
      ]
     },
     "execution_count": 21,
     "metadata": {},
     "output_type": "execute_result"
    }
   ],
   "source": [
    "10/2  #dividing 10 by 2 and getting the answer as float\n",
    "type(10/2)"
   ]
  },
  {
   "cell_type": "code",
   "execution_count": 22,
   "id": "0875b741-2bf6-41e3-94de-ae06d54b5d1f",
   "metadata": {},
   "outputs": [
    {
     "data": {
      "text/plain": [
       "1"
      ]
     },
     "execution_count": 22,
     "metadata": {},
     "output_type": "execute_result"
    }
   ],
   "source": [
    "10%3      #modulus, when 10 is divided by 3, the remainder is 1"
   ]
  },
  {
   "cell_type": "code",
   "execution_count": 23,
   "id": "493616d1-ff45-47be-a5c3-0878c82c1fed",
   "metadata": {},
   "outputs": [
    {
     "data": {
      "text/plain": [
       "int"
      ]
     },
     "execution_count": 23,
     "metadata": {},
     "output_type": "execute_result"
    }
   ],
   "source": [
    "10//2        #dividing 10 by 2 and getting the answer 5 as integer.\n",
    "type(10//2)"
   ]
  },
  {
   "cell_type": "code",
   "execution_count": 24,
   "id": "52f0d183-bf7a-4b29-90c7-7197a1e82f9f",
   "metadata": {},
   "outputs": [
    {
     "data": {
      "text/plain": [
       "25"
      ]
     },
     "execution_count": 24,
     "metadata": {},
     "output_type": "execute_result"
    }
   ],
   "source": [
    "5**2  #square of 5"
   ]
  },
  {
   "cell_type": "code",
   "execution_count": null,
   "id": "4e20dbf6-f50e-4903-8ec0-381e58f5b873",
   "metadata": {},
   "outputs": [],
   "source": [
    "#Q4. Create a list of length 10 of your choice containing multiple types of data. Using for loop print the element and its data type."
   ]
  },
  {
   "cell_type": "code",
   "execution_count": null,
   "id": "f1d587bd-d762-4bb5-ab06-db3672c5c70f",
   "metadata": {},
   "outputs": [],
   "source": [
    "#solution 4:"
   ]
  },
  {
   "cell_type": "code",
   "execution_count": 25,
   "id": "78992175-7234-4995-ac96-998a809a8336",
   "metadata": {},
   "outputs": [
    {
     "name": "stdout",
     "output_type": "stream",
     "text": [
      "<class 'int'>\n",
      "<class 'complex'>\n",
      "<class 'str'>\n",
      "<class 'bool'>\n",
      "<class 'float'>\n"
     ]
    }
   ],
   "source": [
    "l1 = [3, 4+7j, \"Monoliza\", True, 4.9]\n",
    "for k in l1:\n",
    "    print(type(k))\n",
    "    "
   ]
  },
  {
   "cell_type": "code",
   "execution_count": null,
   "id": "74064a03-d233-4753-90a2-355f75abbdb3",
   "metadata": {},
   "outputs": [],
   "source": [
    "#Q5. Using a while loop, verify if the number A is purely divisible by number B and if so then how many times it can be divisible."
   ]
  },
  {
   "cell_type": "code",
   "execution_count": null,
   "id": "0c22be01-07b8-405a-a0d3-e655e9e31f76",
   "metadata": {},
   "outputs": [],
   "source": [
    "#solution 5:"
   ]
  },
  {
   "cell_type": "code",
   "execution_count": 26,
   "id": "770e7d70-b996-44b3-8a4b-318e0b1b98b4",
   "metadata": {},
   "outputs": [
    {
     "name": "stdout",
     "output_type": "stream",
     "text": [
      "number A is divisible by number B 1 times\n"
     ]
    }
   ],
   "source": [
    "A = 10\n",
    "B = 2\n",
    "count = 0\n",
    "while A%B == 0:\n",
    "    A = A/B\n",
    "    count += 1\n",
    "if count > 0:\n",
    "    print(\"number A is divisible by number B\", count, \"times\")\n",
    "else:\n",
    "    print(\"number A is divisible by number B\")"
   ]
  },
  {
   "cell_type": "code",
   "execution_count": null,
   "id": "33a0f3a6-85eb-4b08-b520-7f5767766a46",
   "metadata": {},
   "outputs": [],
   "source": [
    "#Q6. Create a list containing 25 int type data. Using for loop and if-else condition print if the element is divisible by 3 or not."
   ]
  },
  {
   "cell_type": "code",
   "execution_count": null,
   "id": "acf87e67-9c05-4c20-87f9-ca5136ddfb7c",
   "metadata": {},
   "outputs": [],
   "source": [
    "#solution 6:"
   ]
  },
  {
   "cell_type": "code",
   "execution_count": 27,
   "id": "c7a14fa3-923c-4884-abea-32108217c931",
   "metadata": {},
   "outputs": [
    {
     "name": "stdout",
     "output_type": "stream",
     "text": [
      "2\n",
      "3\n",
      "7\n",
      "9\n",
      "12\n",
      "13\n",
      "18\n",
      "14\n",
      "23\n",
      "24\n",
      "28\n",
      "29\n",
      "30\n",
      "33\n",
      "36\n",
      "39\n",
      "41\n",
      "45\n",
      "47\n",
      "48\n",
      "56\n",
      "69\n",
      "62\n",
      "90\n",
      "99\n",
      "number is divisible by 3\n"
     ]
    }
   ],
   "source": [
    "l = [2,3,7,9,12,13,18,14,23,24,28,29,30,33,36,39,41,45,47,48,56,69,62,90,99]\n",
    "for i in l:\n",
    "    print(i)\n",
    "if i%3==0:\n",
    "    print(\"number is divisible by 3\")\n",
    "else:\n",
    "    print(\"number is not divisible by 3\")"
   ]
  },
  {
   "cell_type": "code",
   "execution_count": null,
   "id": "29876cd1-7066-4892-a24b-de045635c07b",
   "metadata": {},
   "outputs": [],
   "source": [
    "#Q7. What do you understand about mutable and immutable data types? Give examples for both showing this property"
   ]
  },
  {
   "cell_type": "code",
   "execution_count": null,
   "id": "0094cbf0-98f6-495f-aa18-8b5de57085b8",
   "metadata": {},
   "outputs": [],
   "source": [
    "#solution 7:"
   ]
  },
  {
   "cell_type": "code",
   "execution_count": null,
   "id": "b202dfb9-556b-4d40-9017-51aafe0f18e4",
   "metadata": {},
   "outputs": [],
   "source": [
    "#list is mutable, i.e. it enables assignment and changing of a particular data.\n",
    "#string is immuatble, i.e. it doesnot enable assignment or chaning of a particular data."
   ]
  },
  {
   "cell_type": "code",
   "execution_count": 13,
   "id": "d79f73cb-1d41-47f0-94e0-c180dcd2e02f",
   "metadata": {},
   "outputs": [
    {
     "ename": "NameError",
     "evalue": "name 'p' is not defined",
     "output_type": "error",
     "traceback": [
      "\u001b[0;31m---------------------------------------------------------------------------\u001b[0m",
      "\u001b[0;31mNameError\u001b[0m                                 Traceback (most recent call last)",
      "Cell \u001b[0;32mIn[13], line 3\u001b[0m\n\u001b[1;32m      1\u001b[0m m \u001b[38;5;241m=\u001b[39m \u001b[38;5;124m\"\u001b[39m\u001b[38;5;124mmono\u001b[39m\u001b[38;5;124m\"\u001b[39m\n\u001b[1;32m      2\u001b[0m m\n\u001b[0;32m----> 3\u001b[0m m[\u001b[38;5;241m2\u001b[39m] \u001b[38;5;241m=\u001b[39m \u001b[43mp\u001b[49m\n",
      "\u001b[0;31mNameError\u001b[0m: name 'p' is not defined"
     ]
    }
   ],
   "source": [
    "m = \"mono\"\n",
    "m\n",
    "m[2] = p   #invalid"
   ]
  },
  {
   "cell_type": "code",
   "execution_count": 28,
   "id": "84d6761c-4893-4442-a80d-1131f1e2d581",
   "metadata": {},
   "outputs": [
    {
     "data": {
      "text/plain": [
       "[1, 2.3, (4+1j), 'WOW', 9]"
      ]
     },
     "execution_count": 28,
     "metadata": {},
     "output_type": "execute_result"
    }
   ],
   "source": [
    "lis_t = [1,2.3,4+1j,\"momo\",9]\n",
    "lis_t\n",
    "lis_t[3] = \"WOW\"\n",
    "lis_t"
   ]
  },
  {
   "cell_type": "code",
   "execution_count": null,
   "id": "1222e7a9-5a5e-45f6-9a06-0f67f8574da4",
   "metadata": {},
   "outputs": [],
   "source": []
  }
 ],
 "metadata": {
  "kernelspec": {
   "display_name": "Python 3 (ipykernel)",
   "language": "python",
   "name": "python3"
  },
  "language_info": {
   "codemirror_mode": {
    "name": "ipython",
    "version": 3
   },
   "file_extension": ".py",
   "mimetype": "text/x-python",
   "name": "python",
   "nbconvert_exporter": "python",
   "pygments_lexer": "ipython3",
   "version": "3.10.8"
  }
 },
 "nbformat": 4,
 "nbformat_minor": 5
}
